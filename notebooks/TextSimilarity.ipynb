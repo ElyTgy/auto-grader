{
  "nbformat": 4,
  "nbformat_minor": 2,
  "metadata": {
    "colab": {
      "name": "Similarity go brr.ipynb",
      "provenance": [],
      "collapsed_sections": [],
      "include_colab_link": true
    },
    "kernelspec": {
      "name": "python3",
      "display_name": "Python 3"
    },
    "language_info": {
      "name": "python"
    },
    "accelerator": "GPU",
    "widgets": {
      "application/vnd.jupyter.widget-state+json": {
        "c3b087ef6c2c4836b116136b3a8aed96": {
          "model_module": "@jupyter-widgets/controls",
          "model_name": "HBoxModel",
          "state": {
            "_view_name": "HBoxView",
            "_dom_classes": [],
            "_model_name": "HBoxModel",
            "_view_module": "@jupyter-widgets/controls",
            "_model_module_version": "1.5.0",
            "_view_count": null,
            "_view_module_version": "1.5.0",
            "box_style": "",
            "layout": "IPY_MODEL_c520b68a36134745ba23f73dd9368770",
            "_model_module": "@jupyter-widgets/controls",
            "children": [
              "IPY_MODEL_3c6755587aa146dbbb3bb674213d6299",
              "IPY_MODEL_6c8a4e42f72f4f1191439035e3d68c14"
            ]
          }
        },
        "c520b68a36134745ba23f73dd9368770": {
          "model_module": "@jupyter-widgets/base",
          "model_name": "LayoutModel",
          "state": {
            "_view_name": "LayoutView",
            "grid_template_rows": null,
            "right": null,
            "justify_content": null,
            "_view_module": "@jupyter-widgets/base",
            "overflow": null,
            "_model_module_version": "1.2.0",
            "_view_count": null,
            "flex_flow": null,
            "width": null,
            "min_width": null,
            "border": null,
            "align_items": null,
            "bottom": null,
            "_model_module": "@jupyter-widgets/base",
            "top": null,
            "grid_column": null,
            "overflow_y": null,
            "overflow_x": null,
            "grid_auto_flow": null,
            "grid_area": null,
            "grid_template_columns": null,
            "flex": null,
            "_model_name": "LayoutModel",
            "justify_items": null,
            "grid_row": null,
            "max_height": null,
            "align_content": null,
            "visibility": null,
            "align_self": null,
            "height": null,
            "min_height": null,
            "padding": null,
            "grid_auto_rows": null,
            "grid_gap": null,
            "max_width": null,
            "order": null,
            "_view_module_version": "1.2.0",
            "grid_template_areas": null,
            "object_position": null,
            "object_fit": null,
            "grid_auto_columns": null,
            "margin": null,
            "display": null,
            "left": null
          }
        },
        "3c6755587aa146dbbb3bb674213d6299": {
          "model_module": "@jupyter-widgets/controls",
          "model_name": "FloatProgressModel",
          "state": {
            "_view_name": "ProgressView",
            "style": "IPY_MODEL_84beb7363b104024a6e61f8b1fae134c",
            "_dom_classes": [],
            "description": "100%",
            "_model_name": "FloatProgressModel",
            "bar_style": "success",
            "max": 405234788,
            "_view_module": "@jupyter-widgets/controls",
            "_model_module_version": "1.5.0",
            "value": 405234788,
            "_view_count": null,
            "_view_module_version": "1.5.0",
            "orientation": "horizontal",
            "min": 0,
            "description_tooltip": null,
            "_model_module": "@jupyter-widgets/controls",
            "layout": "IPY_MODEL_195bf2412c464229ac31aaf1059cf244"
          }
        },
        "6c8a4e42f72f4f1191439035e3d68c14": {
          "model_module": "@jupyter-widgets/controls",
          "model_name": "HTMLModel",
          "state": {
            "_view_name": "HTMLView",
            "style": "IPY_MODEL_abb13724282b4cc1aed1581a711ce53d",
            "_dom_classes": [],
            "description": "",
            "_model_name": "HTMLModel",
            "placeholder": "​",
            "_view_module": "@jupyter-widgets/controls",
            "_model_module_version": "1.5.0",
            "value": " 405M/405M [00:29&lt;00:00, 13.8MB/s]",
            "_view_count": null,
            "_view_module_version": "1.5.0",
            "description_tooltip": null,
            "_model_module": "@jupyter-widgets/controls",
            "layout": "IPY_MODEL_c443e3a2a66b42feb12d3fe59c2feddd"
          }
        },
        "84beb7363b104024a6e61f8b1fae134c": {
          "model_module": "@jupyter-widgets/controls",
          "model_name": "ProgressStyleModel",
          "state": {
            "_view_name": "StyleView",
            "_model_name": "ProgressStyleModel",
            "description_width": "initial",
            "_view_module": "@jupyter-widgets/base",
            "_model_module_version": "1.5.0",
            "_view_count": null,
            "_view_module_version": "1.2.0",
            "bar_color": null,
            "_model_module": "@jupyter-widgets/controls"
          }
        },
        "195bf2412c464229ac31aaf1059cf244": {
          "model_module": "@jupyter-widgets/base",
          "model_name": "LayoutModel",
          "state": {
            "_view_name": "LayoutView",
            "grid_template_rows": null,
            "right": null,
            "justify_content": null,
            "_view_module": "@jupyter-widgets/base",
            "overflow": null,
            "_model_module_version": "1.2.0",
            "_view_count": null,
            "flex_flow": null,
            "width": null,
            "min_width": null,
            "border": null,
            "align_items": null,
            "bottom": null,
            "_model_module": "@jupyter-widgets/base",
            "top": null,
            "grid_column": null,
            "overflow_y": null,
            "overflow_x": null,
            "grid_auto_flow": null,
            "grid_area": null,
            "grid_template_columns": null,
            "flex": null,
            "_model_name": "LayoutModel",
            "justify_items": null,
            "grid_row": null,
            "max_height": null,
            "align_content": null,
            "visibility": null,
            "align_self": null,
            "height": null,
            "min_height": null,
            "padding": null,
            "grid_auto_rows": null,
            "grid_gap": null,
            "max_width": null,
            "order": null,
            "_view_module_version": "1.2.0",
            "grid_template_areas": null,
            "object_position": null,
            "object_fit": null,
            "grid_auto_columns": null,
            "margin": null,
            "display": null,
            "left": null
          }
        },
        "abb13724282b4cc1aed1581a711ce53d": {
          "model_module": "@jupyter-widgets/controls",
          "model_name": "DescriptionStyleModel",
          "state": {
            "_view_name": "StyleView",
            "_model_name": "DescriptionStyleModel",
            "description_width": "",
            "_view_module": "@jupyter-widgets/base",
            "_model_module_version": "1.5.0",
            "_view_count": null,
            "_view_module_version": "1.2.0",
            "_model_module": "@jupyter-widgets/controls"
          }
        },
        "c443e3a2a66b42feb12d3fe59c2feddd": {
          "model_module": "@jupyter-widgets/base",
          "model_name": "LayoutModel",
          "state": {
            "_view_name": "LayoutView",
            "grid_template_rows": null,
            "right": null,
            "justify_content": null,
            "_view_module": "@jupyter-widgets/base",
            "overflow": null,
            "_model_module_version": "1.2.0",
            "_view_count": null,
            "flex_flow": null,
            "width": null,
            "min_width": null,
            "border": null,
            "align_items": null,
            "bottom": null,
            "_model_module": "@jupyter-widgets/base",
            "top": null,
            "grid_column": null,
            "overflow_y": null,
            "overflow_x": null,
            "grid_auto_flow": null,
            "grid_area": null,
            "grid_template_columns": null,
            "flex": null,
            "_model_name": "LayoutModel",
            "justify_items": null,
            "grid_row": null,
            "max_height": null,
            "align_content": null,
            "visibility": null,
            "align_self": null,
            "height": null,
            "min_height": null,
            "padding": null,
            "grid_auto_rows": null,
            "grid_gap": null,
            "max_width": null,
            "order": null,
            "_view_module_version": "1.2.0",
            "grid_template_areas": null,
            "object_position": null,
            "object_fit": null,
            "grid_auto_columns": null,
            "margin": null,
            "display": null,
            "left": null
          }
        }
      }
    }
  },
  "cells": [
    {
      "cell_type": "code",
      "execution_count": 1,
      "source": [
        "from sentence_transformers import SentenceTransformer\r\n",
        "import scipy"
      ],
      "outputs": [],
      "metadata": {
        "id": "hZIlzfZLFTKJ"
      }
    },
    {
      "cell_type": "code",
      "execution_count": 2,
      "source": [
        "model = SentenceTransformer('bert-base-nli-mean-tokens')"
      ],
      "outputs": [
        {
          "output_type": "stream",
          "name": "stderr",
          "text": [
            "Downloading: 100%|██████████| 438M/438M [01:30<00:00, 4.83MB/s]\n",
            "Downloading: 100%|██████████| 53.0/53.0 [00:00<?, ?B/s]\n",
            "Downloading: 100%|██████████| 112/112 [00:00<?, ?B/s] \n",
            "Downloading: 100%|██████████| 466k/466k [00:00<00:00, 689kB/s]\n",
            "Downloading: 100%|██████████| 399/399 [00:00<00:00, 186kB/s]\n",
            "Downloading: 100%|██████████| 232k/232k [00:00<00:00, 562kB/s]\n",
            "Downloading: 100%|██████████| 190/190 [00:00<?, ?B/s] \n"
          ]
        }
      ],
      "metadata": {
        "id": "3BEHRaggO_u3",
        "colab": {
          "base_uri": "https://localhost:8080/",
          "height": 136,
          "referenced_widgets": [
            "c3b087ef6c2c4836b116136b3a8aed96",
            "c520b68a36134745ba23f73dd9368770",
            "3c6755587aa146dbbb3bb674213d6299",
            "6c8a4e42f72f4f1191439035e3d68c14",
            "84beb7363b104024a6e61f8b1fae134c",
            "195bf2412c464229ac31aaf1059cf244",
            "abb13724282b4cc1aed1581a711ce53d",
            "c443e3a2a66b42feb12d3fe59c2feddd"
          ]
        },
        "outputId": "d0830089-e569-4285-9398-c726b69addaa"
      }
    },
    {
      "cell_type": "code",
      "execution_count": 3,
      "source": [
        "sentences = []"
      ],
      "outputs": [],
      "metadata": {
        "id": "G3SGmmkLRTx4"
      }
    },
    {
      "cell_type": "code",
      "execution_count": 4,
      "source": [
        "input_data = \"Adriana Monti was born in 1951 and has been making independent feminist films since the late 1970s.[3] Much of her filmmaking is collaborative. She began her career in the context of a larger feminist movement in Italy of the 1970s.[3] For her 1983 film Scuola senza fine (School without End), she put together a group of amateur women to make the film.[3] The group of former housewives had completed a 150-hour secondary school diploma course in 1976 and did not want to stop learning after it ended.[4] With the help of their teacher, they formed a study and research group. Monti shot the film about them from 1979\\u20131981, with the first half of it being made collectively by the group. It was completed in 1983.[4] In 1986, Monti made a documentary called Filo a catena about the conditions of female textile workers\"\r\n",
        "sentences.append(input_data)"
      ],
      "outputs": [],
      "metadata": {
        "id": "wGi0HzQHFeLJ",
        "cellView": "form"
      }
    },
    {
      "cell_type": "code",
      "execution_count": 5,
      "source": [
        "sentences"
      ],
      "outputs": [
        {
          "output_type": "execute_result",
          "data": {
            "text/plain": [
              "['Adriana Monti was born in 1951 and has been making independent feminist films since the late 1970s.[3] Much of her filmmaking is collaborative. She began her career in the context of a larger feminist movement in Italy of the 1970s.[3] For her 1983 film Scuola senza fine (School without End), she put together a group of amateur women to make the film.[3] The group of former housewives had completed a 150-hour secondary school diploma course in 1976 and did not want to stop learning after it ended.[4] With the help of their teacher, they formed a study and research group. Monti shot the film about them from 1979–1981, with the first half of it being made collectively by the group. It was completed in 1983.[4] In 1986, Monti made a documentary called Filo a catena about the conditions of female textile workers']"
            ]
          },
          "metadata": {},
          "execution_count": 5
        }
      ],
      "metadata": {
        "id": "4XWOtzjiUgwQ",
        "colab": {
          "base_uri": "https://localhost:8080/"
        },
        "outputId": "9d14cd81-6694-4f94-9c02-b0d95024fa56"
      }
    },
    {
      "cell_type": "code",
      "execution_count": 6,
      "source": [
        "sentence_embeddings = model.encode(sentences)"
      ],
      "outputs": [],
      "metadata": {
        "id": "Xumlsr0jRP26"
      }
    },
    {
      "cell_type": "code",
      "execution_count": 7,
      "source": [
        "query = \"The austere stone facade, rusticated inferiorly, has bronze doors; the lunettes above have a relief depicting the Immaculate Conception and Jesus by the sculptor Ettore Marinelli. On the roof of the main entrance is a much restored fresco of St Francis of Assisi receiving the Stigmata (1696) by an unknown painter. The church also has a painting of the Immaculate Conception with the Holy Spirit and St Joseph and Saints (1685) by Benedetto Brunetti.\" #@param {type: 'string'}\r\n",
        "\r\n",
        "queries = [query]\r\n",
        "query_embeddings = model.encode(queries)\r\n",
        "\r\n",
        "number_top_matches = len(sentences)\r\n",
        "\r\n",
        "print(\"Semantic Search Results\")\r\n",
        "\r\n",
        "for query, query_embedding in zip(queries, query_embeddings):\r\n",
        "    distances = scipy.spatial.distance.cdist([query_embedding], sentence_embeddings, \"cosine\")[0]\r\n",
        "\r\n",
        "    results = zip(range(len(distances)), distances)\r\n",
        "    results = sorted(results, key=lambda x: x[1])\r\n",
        "\r\n",
        "    print(\"\\n\\n======================\\n\\n\")\r\n",
        "    print(\"Query:\", query)\r\n",
        "    print(f\"\\nSimilar {number_top_matches} sentence(s) in corpus:\")\r\n",
        "\r\n",
        "    cos_scores = []\r\n",
        "\r\n",
        "    for idx, distance in results[0:number_top_matches]:\r\n",
        "        print(sentences[idx].strip(), \"(Cosine Score: %.4f)\" % (1-distance))\r\n",
        "        cos_scores.append(1-distance)"
      ],
      "outputs": [
        {
          "output_type": "stream",
          "name": "stdout",
          "text": [
            "Semantic Search Results\n",
            "\n",
            "\n",
            "======================\n",
            "\n",
            "\n",
            "Query: The austere stone facade, rusticated inferiorly, has bronze doors; the lunettes above have a relief depicting the Immaculate Conception and Jesus by the sculptor Ettore Marinelli. On the roof of the main entrance is a much restored fresco of St Francis of Assisi receiving the Stigmata (1696) by an unknown painter. The church also has a painting of the Immaculate Conception with the Holy Spirit and St Joseph and Saints (1685) by Benedetto Brunetti.\n",
            "\n",
            "Similar 1 sentence(s) in corpus:\n",
            "Adriana Monti was born in 1951 and has been making independent feminist films since the late 1970s.[3] Much of her filmmaking is collaborative. She began her career in the context of a larger feminist movement in Italy of the 1970s.[3] For her 1983 film Scuola senza fine (School without End), she put together a group of amateur women to make the film.[3] The group of former housewives had completed a 150-hour secondary school diploma course in 1976 and did not want to stop learning after it ended.[4] With the help of their teacher, they formed a study and research group. Monti shot the film about them from 1979–1981, with the first half of it being made collectively by the group. It was completed in 1983.[4] In 1986, Monti made a documentary called Filo a catena about the conditions of female textile workers (Cosine Score: 0.3905)\n"
          ]
        }
      ],
      "metadata": {
        "id": "Vo0_UmAMF21-",
        "colab": {
          "base_uri": "https://localhost:8080/"
        },
        "cellView": "form",
        "outputId": "68fa048d-9ccb-42c0-aa67-503a0b0e0ee8"
      }
    },
    {
      "cell_type": "code",
      "execution_count": 8,
      "source": [
        "b = 0.5\r\n",
        "max_marks = 5\r\n",
        "max_score = max(cos_scores)\r\n",
        "marks_obtained = max([((max_score-b+0.05)/(1-b))*max_marks if max_score < 0.85 else max_marks, 0])\r\n",
        "print(\"Marks: \", \"%.2f\" % marks_obtained, \"/\", \"%.2f\" % max_marks)"
      ],
      "outputs": [
        {
          "output_type": "stream",
          "name": "stdout",
          "text": [
            "Marks:  0.00 / 5.00\n"
          ]
        }
      ],
      "metadata": {
        "id": "ZcFZi-8wIqOU",
        "colab": {
          "base_uri": "https://localhost:8080/"
        },
        "outputId": "e5c2dc77-663a-4d61-c558-94e4485f0ead"
      }
    }
  ]
}