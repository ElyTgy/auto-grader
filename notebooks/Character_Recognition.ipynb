{
  "nbformat": 4,
  "nbformat_minor": 0,
  "metadata": {
    "accelerator": "GPU",
    "colab": {
      "name": "Character Recognition",
      "provenance": []
    },
    "kernelspec": {
      "display_name": "Python 3",
      "name": "python3"
    },
    "language_info": {
      "name": "python"
    }
  },
  "cells": [
    {
      "cell_type": "code",
      "metadata": {
        "id": "Cs4_FTyHS91f"
      },
      "source": [
        "import numpy as np\n",
        "import pandas as pd\n",
        "import matplotlib.pyplot as plt\n",
        "import math\n",
        "import seaborn as sns\n",
        "import random\n",
        "import cv2 as cv\n",
        "import tensorflow as tf\n",
        "from tensorflow import keras\n",
        "from tensorflow.keras import layers\n",
        "from keras.models import Sequential\n",
        "from keras.layers import Dense, Flatten, Conv2D, MaxPool2D, Dropout, Activation\n",
        "from keras import optimizers\n",
        "from keras_preprocessing.image import ImageDataGenerator\n",
        "from keras.models import load_model"
      ],
      "execution_count": 4,
      "outputs": []
    },
    {
      "cell_type": "code",
      "metadata": {
        "colab": {
          "base_uri": "https://localhost:8080/"
        },
        "id": "4NhhKEuXU2bG",
        "outputId": "fcef1484-012a-45c3-b046-ad1f86a542c3"
      },
      "source": [
        "from google.colab import drive\n",
        "drive.mount('/content/drive')"
      ],
      "execution_count": 5,
      "outputs": [
        {
          "output_type": "stream",
          "text": [
            "Drive already mounted at /content/drive; to attempt to forcibly remount, call drive.mount(\"/content/drive\", force_remount=True).\n"
          ],
          "name": "stdout"
        }
      ]
    },
    {
      "cell_type": "code",
      "metadata": {
        "colab": {
          "base_uri": "https://localhost:8080/",
          "height": 343
        },
        "id": "28Gxv_dyUK1U",
        "outputId": "d28a36d8-4ce9-49dc-ad96-8638a3c09376"
      },
      "source": [
        "df = pd.read_csv('/content/drive/MyDrive/Colab Notebooks/datasets/chars/english.csv')\n",
        "df.sample(10)"
      ],
      "execution_count": 13,
      "outputs": [
        {
          "output_type": "execute_result",
          "data": {
            "text/html": [
              "<div>\n",
              "<style scoped>\n",
              "    .dataframe tbody tr th:only-of-type {\n",
              "        vertical-align: middle;\n",
              "    }\n",
              "\n",
              "    .dataframe tbody tr th {\n",
              "        vertical-align: top;\n",
              "    }\n",
              "\n",
              "    .dataframe thead th {\n",
              "        text-align: right;\n",
              "    }\n",
              "</style>\n",
              "<table border=\"1\" class=\"dataframe\">\n",
              "  <thead>\n",
              "    <tr style=\"text-align: right;\">\n",
              "      <th></th>\n",
              "      <th>image</th>\n",
              "      <th>label</th>\n",
              "    </tr>\n",
              "  </thead>\n",
              "  <tbody>\n",
              "    <tr>\n",
              "      <th>2174</th>\n",
              "      <td>Img/img040-030.png</td>\n",
              "      <td>d</td>\n",
              "    </tr>\n",
              "    <tr>\n",
              "      <th>3012</th>\n",
              "      <td>Img/img055-043.png</td>\n",
              "      <td>s</td>\n",
              "    </tr>\n",
              "    <tr>\n",
              "      <th>553</th>\n",
              "      <td>Img/img011-004.png</td>\n",
              "      <td>A</td>\n",
              "    </tr>\n",
              "    <tr>\n",
              "      <th>3409</th>\n",
              "      <td>Img/img062-055.png</td>\n",
              "      <td>z</td>\n",
              "    </tr>\n",
              "    <tr>\n",
              "      <th>2171</th>\n",
              "      <td>Img/img040-027.png</td>\n",
              "      <td>d</td>\n",
              "    </tr>\n",
              "    <tr>\n",
              "      <th>3036</th>\n",
              "      <td>Img/img056-012.png</td>\n",
              "      <td>t</td>\n",
              "    </tr>\n",
              "    <tr>\n",
              "      <th>1692</th>\n",
              "      <td>Img/img031-043.png</td>\n",
              "      <td>U</td>\n",
              "    </tr>\n",
              "    <tr>\n",
              "      <th>845</th>\n",
              "      <td>Img/img016-021.png</td>\n",
              "      <td>F</td>\n",
              "    </tr>\n",
              "    <tr>\n",
              "      <th>1735</th>\n",
              "      <td>Img/img032-031.png</td>\n",
              "      <td>V</td>\n",
              "    </tr>\n",
              "    <tr>\n",
              "      <th>670</th>\n",
              "      <td>Img/img013-011.png</td>\n",
              "      <td>C</td>\n",
              "    </tr>\n",
              "  </tbody>\n",
              "</table>\n",
              "</div>"
            ],
            "text/plain": [
              "                   image label\n",
              "2174  Img/img040-030.png     d\n",
              "3012  Img/img055-043.png     s\n",
              "553   Img/img011-004.png     A\n",
              "3409  Img/img062-055.png     z\n",
              "2171  Img/img040-027.png     d\n",
              "3036  Img/img056-012.png     t\n",
              "1692  Img/img031-043.png     U\n",
              "845   Img/img016-021.png     F\n",
              "1735  Img/img032-031.png     V\n",
              "670   Img/img013-011.png     C"
            ]
          },
          "metadata": {
            "tags": []
          },
          "execution_count": 13
        }
      ]
    },
    {
      "cell_type": "code",
      "metadata": {
        "id": "OvgvG69GUrcU",
        "colab": {
          "base_uri": "https://localhost:8080/",
          "height": 343
        },
        "outputId": "9cfd59d3-8404-4859-9930-9f0b8bc26ad6"
      },
      "source": [
        "remove = ['q','w','e','r','t','y','u','i','o','p','a','s','d','f','g','h','j','k','l','z','x','c','v','b','n','m']\n",
        "df = df[df['label'].map(lambda x: x not in remove)]\n",
        "df.sample(10)"
      ],
      "execution_count": 14,
      "outputs": [
        {
          "output_type": "execute_result",
          "data": {
            "text/html": [
              "<div>\n",
              "<style scoped>\n",
              "    .dataframe tbody tr th:only-of-type {\n",
              "        vertical-align: middle;\n",
              "    }\n",
              "\n",
              "    .dataframe tbody tr th {\n",
              "        vertical-align: top;\n",
              "    }\n",
              "\n",
              "    .dataframe thead th {\n",
              "        text-align: right;\n",
              "    }\n",
              "</style>\n",
              "<table border=\"1\" class=\"dataframe\">\n",
              "  <thead>\n",
              "    <tr style=\"text-align: right;\">\n",
              "      <th></th>\n",
              "      <th>image</th>\n",
              "      <th>label</th>\n",
              "    </tr>\n",
              "  </thead>\n",
              "  <tbody>\n",
              "    <tr>\n",
              "      <th>369</th>\n",
              "      <td>Img/img007-040.png</td>\n",
              "      <td>6</td>\n",
              "    </tr>\n",
              "    <tr>\n",
              "      <th>122</th>\n",
              "      <td>Img/img003-013.png</td>\n",
              "      <td>2</td>\n",
              "    </tr>\n",
              "    <tr>\n",
              "      <th>1665</th>\n",
              "      <td>Img/img031-016.png</td>\n",
              "      <td>U</td>\n",
              "    </tr>\n",
              "    <tr>\n",
              "      <th>1010</th>\n",
              "      <td>Img/img019-021.png</td>\n",
              "      <td>I</td>\n",
              "    </tr>\n",
              "    <tr>\n",
              "      <th>1135</th>\n",
              "      <td>Img/img021-036.png</td>\n",
              "      <td>K</td>\n",
              "    </tr>\n",
              "    <tr>\n",
              "      <th>1183</th>\n",
              "      <td>Img/img022-029.png</td>\n",
              "      <td>L</td>\n",
              "    </tr>\n",
              "    <tr>\n",
              "      <th>1128</th>\n",
              "      <td>Img/img021-029.png</td>\n",
              "      <td>K</td>\n",
              "    </tr>\n",
              "    <tr>\n",
              "      <th>1330</th>\n",
              "      <td>Img/img025-011.png</td>\n",
              "      <td>O</td>\n",
              "    </tr>\n",
              "    <tr>\n",
              "      <th>204</th>\n",
              "      <td>Img/img004-040.png</td>\n",
              "      <td>3</td>\n",
              "    </tr>\n",
              "    <tr>\n",
              "      <th>752</th>\n",
              "      <td>Img/img014-038.png</td>\n",
              "      <td>D</td>\n",
              "    </tr>\n",
              "  </tbody>\n",
              "</table>\n",
              "</div>"
            ],
            "text/plain": [
              "                   image label\n",
              "369   Img/img007-040.png     6\n",
              "122   Img/img003-013.png     2\n",
              "1665  Img/img031-016.png     U\n",
              "1010  Img/img019-021.png     I\n",
              "1135  Img/img021-036.png     K\n",
              "1183  Img/img022-029.png     L\n",
              "1128  Img/img021-029.png     K\n",
              "1330  Img/img025-011.png     O\n",
              "204   Img/img004-040.png     3\n",
              "752   Img/img014-038.png     D"
            ]
          },
          "metadata": {
            "tags": []
          },
          "execution_count": 14
        }
      ]
    },
    {
      "cell_type": "code",
      "metadata": {
        "colab": {
          "base_uri": "https://localhost:8080/"
        },
        "id": "CHz0jSBmY5WP",
        "outputId": "f8d063a2-a78f-433f-97f1-f096d1075d65"
      },
      "source": [
        "classes = df['label'].unique()\n",
        "quantity = len(df['label'].unique())\n",
        "print(f'\\n The %d Classes are: \\n {classes}' %quantity)    "
      ],
      "execution_count": 15,
      "outputs": [
        {
          "output_type": "stream",
          "text": [
            "\n",
            " The 36 Classes are: \n",
            " ['0' '1' '2' '3' '4' '5' '6' '7' '8' '9' 'A' 'B' 'C' 'D' 'E' 'F' 'G' 'H'\n",
            " 'I' 'J' 'K' 'L' 'M' 'N' 'O' 'P' 'Q' 'R' 'S' 'T' 'U' 'V' 'W' 'X' 'Y' 'Z']\n"
          ],
          "name": "stdout"
        }
      ]
    },
    {
      "cell_type": "code",
      "metadata": {
        "colab": {
          "base_uri": "https://localhost:8080/",
          "height": 402
        },
        "id": "KiOl66LdY_51",
        "outputId": "7a69d03d-9d33-4b1b-e48f-bf8ee92b79a3"
      },
      "source": [
        "#Create a variable that contains the general file path\n",
        "DATAPATH = '/content/drive/MyDrive/Colab Notebooks/datasets/chars'\n",
        "#Read another time the csv file\n",
        "dataset = pd.read_csv(DATAPATH + '/english.csv')\n",
        "#Pick randomly 600 values\n",
        "rand = random.sample(range(len(dataset)), 300)\n",
        "#Create validation set of data\n",
        "validation_set = pd.DataFrame(dataset.iloc[rand,:].values, columns = ['image','label'])\n",
        "#Drop Validation data from dataset\n",
        "dataset.drop(rand, inplace = True)\n",
        "#Pick randomly 15 values\n",
        "rand = random.sample(range(len(validation_set)), 15)\n",
        "#Create test set of data\n",
        "test_set = pd.DataFrame(validation_set.iloc[rand,:].values, columns = ['image','label'])\n",
        "#Drop Test data from validation set\n",
        "validation_set.drop(rand, inplace = True)\n",
        "#Show Validation dataset\n",
        "validation_set"
      ],
      "execution_count": 17,
      "outputs": [
        {
          "output_type": "execute_result",
          "data": {
            "text/html": [
              "<div>\n",
              "<style scoped>\n",
              "    .dataframe tbody tr th:only-of-type {\n",
              "        vertical-align: middle;\n",
              "    }\n",
              "\n",
              "    .dataframe tbody tr th {\n",
              "        vertical-align: top;\n",
              "    }\n",
              "\n",
              "    .dataframe thead th {\n",
              "        text-align: right;\n",
              "    }\n",
              "</style>\n",
              "<table border=\"1\" class=\"dataframe\">\n",
              "  <thead>\n",
              "    <tr style=\"text-align: right;\">\n",
              "      <th></th>\n",
              "      <th>image</th>\n",
              "      <th>label</th>\n",
              "    </tr>\n",
              "  </thead>\n",
              "  <tbody>\n",
              "    <tr>\n",
              "      <th>0</th>\n",
              "      <td>Img/img010-043.png</td>\n",
              "      <td>9</td>\n",
              "    </tr>\n",
              "    <tr>\n",
              "      <th>1</th>\n",
              "      <td>Img/img031-025.png</td>\n",
              "      <td>U</td>\n",
              "    </tr>\n",
              "    <tr>\n",
              "      <th>2</th>\n",
              "      <td>Img/img034-027.png</td>\n",
              "      <td>X</td>\n",
              "    </tr>\n",
              "    <tr>\n",
              "      <th>3</th>\n",
              "      <td>Img/img017-021.png</td>\n",
              "      <td>G</td>\n",
              "    </tr>\n",
              "    <tr>\n",
              "      <th>4</th>\n",
              "      <td>Img/img045-049.png</td>\n",
              "      <td>i</td>\n",
              "    </tr>\n",
              "    <tr>\n",
              "      <th>...</th>\n",
              "      <td>...</td>\n",
              "      <td>...</td>\n",
              "    </tr>\n",
              "    <tr>\n",
              "      <th>295</th>\n",
              "      <td>Img/img043-041.png</td>\n",
              "      <td>g</td>\n",
              "    </tr>\n",
              "    <tr>\n",
              "      <th>296</th>\n",
              "      <td>Img/img013-038.png</td>\n",
              "      <td>C</td>\n",
              "    </tr>\n",
              "    <tr>\n",
              "      <th>297</th>\n",
              "      <td>Img/img031-037.png</td>\n",
              "      <td>U</td>\n",
              "    </tr>\n",
              "    <tr>\n",
              "      <th>298</th>\n",
              "      <td>Img/img004-054.png</td>\n",
              "      <td>3</td>\n",
              "    </tr>\n",
              "    <tr>\n",
              "      <th>299</th>\n",
              "      <td>Img/img006-020.png</td>\n",
              "      <td>5</td>\n",
              "    </tr>\n",
              "  </tbody>\n",
              "</table>\n",
              "<p>285 rows × 2 columns</p>\n",
              "</div>"
            ],
            "text/plain": [
              "                  image label\n",
              "0    Img/img010-043.png     9\n",
              "1    Img/img031-025.png     U\n",
              "2    Img/img034-027.png     X\n",
              "3    Img/img017-021.png     G\n",
              "4    Img/img045-049.png     i\n",
              "..                  ...   ...\n",
              "295  Img/img043-041.png     g\n",
              "296  Img/img013-038.png     C\n",
              "297  Img/img031-037.png     U\n",
              "298  Img/img004-054.png     3\n",
              "299  Img/img006-020.png     5\n",
              "\n",
              "[285 rows x 2 columns]"
            ]
          },
          "metadata": {
            "tags": []
          },
          "execution_count": 17
        }
      ]
    },
    {
      "cell_type": "code",
      "metadata": {
        "colab": {
          "base_uri": "https://localhost:8080/"
        },
        "id": "pp6-u4WxZOp3",
        "outputId": "5aad591e-1c65-439b-ea63-7ef6ef9b4b18"
      },
      "source": [
        "train_data_generator = ImageDataGenerator(\n",
        "            rescale=1/255,\n",
        "            shear_range=0.2,\n",
        "            zoom_range=0.2,\n",
        "            width_shift_range=0.2,\n",
        "            height_shift_range=0.2,)\n",
        "data_generator = ImageDataGenerator(rescale = 1/255)\n",
        "training_data_frame = train_data_generator.flow_from_dataframe( \n",
        "                                            dataframe = dataset, \n",
        "                                            directory = DATAPATH,\n",
        "                                            x_col = 'image',\n",
        "                                            y_col = 'label',\n",
        "                                            target_size = (64,64),\n",
        "                                            classe_mode = 'categorical')\n",
        "validation_data_frame = data_generator.flow_from_dataframe( \n",
        "                                            dataframe = validation_set, \n",
        "                                            directory = DATAPATH + '',\n",
        "                                            x_col = 'image',\n",
        "                                            y_col = 'label',\n",
        "                                            target_size = (64,64),\n",
        "                                            classe_mode = 'categorical')\n",
        "test_data_frame = data_generator.flow_from_dataframe( \n",
        "                                            dataframe = test_set, \n",
        "                                            directory = DATAPATH,\n",
        "                                            x_col = 'image',\n",
        "                                            y_col = 'label',\n",
        "                                            target_size = (64,64),\n",
        "                                            classe_mode = 'categorical')"
      ],
      "execution_count": 18,
      "outputs": [
        {
          "output_type": "stream",
          "text": [
            "Found 1795 validated image filenames belonging to 36 classes.\n",
            "Found 175 validated image filenames belonging to 36 classes.\n",
            "Found 10 validated image filenames belonging to 9 classes.\n"
          ],
          "name": "stdout"
        },
        {
          "output_type": "stream",
          "text": [
            "/usr/local/lib/python3.7/dist-packages/keras_preprocessing/image/dataframe_iterator.py:282: UserWarning: Found 1315 invalid image filename(s) in x_col=\"image\". These filename(s) will be ignored.\n",
            "  .format(n_invalid, x_col)\n",
            "/usr/local/lib/python3.7/dist-packages/keras_preprocessing/image/dataframe_iterator.py:282: UserWarning: Found 110 invalid image filename(s) in x_col=\"image\". These filename(s) will be ignored.\n",
            "  .format(n_invalid, x_col)\n",
            "/usr/local/lib/python3.7/dist-packages/keras_preprocessing/image/dataframe_iterator.py:282: UserWarning: Found 5 invalid image filename(s) in x_col=\"image\". These filename(s) will be ignored.\n",
            "  .format(n_invalid, x_col)\n"
          ],
          "name": "stderr"
        }
      ]
    },
    {
      "cell_type": "code",
      "metadata": {
        "id": "IsTx4qiPZY6H"
      },
      "source": [
        "model = keras.Sequential([\n",
        "        layers.BatchNormalization(),\n",
        "        # Add first Convolutional Layer\n",
        "        layers.Conv2D(filters=32, kernel_size=3, activation='relu',\n",
        "                      padding='same', input_shape=(64,64,3)),\n",
        "        # Add a second Convolutional Layer\n",
        "        layers.Conv2D(filters=32, kernel_size=3, activation='relu'),\n",
        "        # Add a Max pooling layer\n",
        "        layers.MaxPool2D(pool_size=(2, 2)),\n",
        "        # Add a Dropout layer\n",
        "        layers.Dropout(0.25),\n",
        "    \n",
        "        layers.BatchNormalization(),\n",
        "        # Add third Convolutional Layer\n",
        "        layers.Conv2D(filters=32, kernel_size=3, activation='relu', padding = 'same'),\n",
        "        # Add Fourth Convolutional Layer\n",
        "        layers.Conv2D(filters=32, kernel_size=3, activation='relu'),\n",
        "        # Add a Max pooling layer\n",
        "        layers.MaxPool2D(pool_size=(2, 2)),\n",
        "        # Add a Dropout Layer\n",
        "        layers.Dropout(0.25),\n",
        "\n",
        "        layers.BatchNormalization(),\n",
        "        # Add Fifth Convolutional Layer\n",
        "        layers.Conv2D(filters=32, kernel_size=3, activation='relu', padding = 'same'),\n",
        "        # Add a sixth Convolutional Layer\n",
        "        layers.Conv2D(filters=32, kernel_size=3, activation='relu'),\n",
        "        # Add a Max Pooling Layer\n",
        "        layers.MaxPool2D(pool_size=(2, 2)),\n",
        "        # Add a Dropout Layer\n",
        "        layers.Dropout(0.25),\n",
        "\n",
        "        layers.BatchNormalization(),\n",
        "        # Add a Flatten Layer\n",
        "        layers.Flatten(),\n",
        "        # Add a Dense layer Layer\n",
        "        layers.Dense(512, activation = 'relu'),\n",
        "        # Add a Dropout Layer\n",
        "        layers.Dropout(0.5),\n",
        "        # Add the Output Dense Layer\n",
        "        layers.Dense(36, activation='softmax')\n",
        "])\n",
        "model.compile(\n",
        "    optimizer=tf.keras.optimizers.Adam(epsilon=0.01),\n",
        "    loss= 'categorical_crossentropy',\n",
        "    metrics = ['accuracy'])"
      ],
      "execution_count": 21,
      "outputs": []
    },
    {
      "cell_type": "code",
      "metadata": {
        "colab": {
          "base_uri": "https://localhost:8080/"
        },
        "id": "2lvpqmQVZhzS",
        "outputId": "023a730a-caa5-4074-d0b3-8dccce12b82b"
      },
      "source": [
        "history = model.fit(training_data_frame, validation_data = validation_data_frame, epochs = 50)"
      ],
      "execution_count": 23,
      "outputs": [
        {
          "output_type": "stream",
          "text": [
            "Epoch 1/40\n",
            "57/57 [==============================] - 24s 428ms/step - loss: 2.5102 - accuracy: 0.2696 - val_loss: 2.0834 - val_accuracy: 0.4171\n",
            "Epoch 2/40\n",
            "57/57 [==============================] - 24s 421ms/step - loss: 2.3221 - accuracy: 0.3120 - val_loss: 1.8064 - val_accuracy: 0.4857\n",
            "Epoch 3/40\n",
            "57/57 [==============================] - 24s 421ms/step - loss: 2.1009 - accuracy: 0.3799 - val_loss: 1.5726 - val_accuracy: 0.5371\n",
            "Epoch 4/40\n",
            "57/57 [==============================] - 24s 420ms/step - loss: 1.9386 - accuracy: 0.4145 - val_loss: 1.1294 - val_accuracy: 0.7029\n",
            "Epoch 5/40\n",
            "57/57 [==============================] - 24s 421ms/step - loss: 1.8049 - accuracy: 0.4490 - val_loss: 1.4367 - val_accuracy: 0.5143\n",
            "Epoch 6/40\n",
            "57/57 [==============================] - 24s 421ms/step - loss: 1.6159 - accuracy: 0.5058 - val_loss: 1.1128 - val_accuracy: 0.6571\n",
            "Epoch 7/40\n",
            "57/57 [==============================] - 24s 418ms/step - loss: 1.5744 - accuracy: 0.5142 - val_loss: 0.9566 - val_accuracy: 0.6800\n",
            "Epoch 8/40\n",
            "57/57 [==============================] - 24s 420ms/step - loss: 1.3994 - accuracy: 0.5588 - val_loss: 0.9193 - val_accuracy: 0.7314\n",
            "Epoch 9/40\n",
            "57/57 [==============================] - 24s 421ms/step - loss: 1.3455 - accuracy: 0.5744 - val_loss: 0.7205 - val_accuracy: 0.7486\n",
            "Epoch 10/40\n",
            "57/57 [==============================] - 24s 420ms/step - loss: 1.2588 - accuracy: 0.6189 - val_loss: 0.5317 - val_accuracy: 0.8229\n",
            "Epoch 11/40\n",
            "57/57 [==============================] - 24s 423ms/step - loss: 1.2719 - accuracy: 0.6017 - val_loss: 0.5259 - val_accuracy: 0.8457\n",
            "Epoch 12/40\n",
            "57/57 [==============================] - 24s 418ms/step - loss: 1.1724 - accuracy: 0.6178 - val_loss: 1.0157 - val_accuracy: 0.6743\n",
            "Epoch 13/40\n",
            "57/57 [==============================] - 24s 419ms/step - loss: 1.1596 - accuracy: 0.6340 - val_loss: 0.4751 - val_accuracy: 0.8400\n",
            "Epoch 14/40\n",
            "57/57 [==============================] - 24s 421ms/step - loss: 1.0617 - accuracy: 0.6585 - val_loss: 0.4586 - val_accuracy: 0.8629\n",
            "Epoch 15/40\n",
            "57/57 [==============================] - 24s 417ms/step - loss: 1.0520 - accuracy: 0.6535 - val_loss: 0.4123 - val_accuracy: 0.8686\n",
            "Epoch 16/40\n",
            "57/57 [==============================] - 24s 418ms/step - loss: 0.9959 - accuracy: 0.6852 - val_loss: 0.5468 - val_accuracy: 0.8343\n",
            "Epoch 17/40\n",
            "57/57 [==============================] - 24s 418ms/step - loss: 0.9556 - accuracy: 0.6953 - val_loss: 0.4276 - val_accuracy: 0.8514\n",
            "Epoch 18/40\n",
            "57/57 [==============================] - 24s 422ms/step - loss: 0.9154 - accuracy: 0.7097 - val_loss: 1.2235 - val_accuracy: 0.6571\n",
            "Epoch 19/40\n",
            "57/57 [==============================] - 24s 420ms/step - loss: 0.9128 - accuracy: 0.7014 - val_loss: 0.5455 - val_accuracy: 0.8114\n",
            "Epoch 20/40\n",
            "57/57 [==============================] - 24s 418ms/step - loss: 0.8417 - accuracy: 0.7226 - val_loss: 0.4247 - val_accuracy: 0.8457\n",
            "Epoch 21/40\n",
            "57/57 [==============================] - 24s 420ms/step - loss: 0.9022 - accuracy: 0.7242 - val_loss: 0.3847 - val_accuracy: 0.8514\n",
            "Epoch 22/40\n",
            "57/57 [==============================] - 24s 422ms/step - loss: 0.8098 - accuracy: 0.7421 - val_loss: 0.3737 - val_accuracy: 0.8914\n",
            "Epoch 23/40\n",
            "57/57 [==============================] - 24s 423ms/step - loss: 0.8121 - accuracy: 0.7443 - val_loss: 0.6245 - val_accuracy: 0.7829\n",
            "Epoch 24/40\n",
            "57/57 [==============================] - 24s 426ms/step - loss: 0.8024 - accuracy: 0.7421 - val_loss: 0.2939 - val_accuracy: 0.9029\n",
            "Epoch 25/40\n",
            "57/57 [==============================] - 24s 420ms/step - loss: 0.7651 - accuracy: 0.7510 - val_loss: 0.2886 - val_accuracy: 0.9029\n",
            "Epoch 26/40\n",
            "57/57 [==============================] - 24s 419ms/step - loss: 0.7356 - accuracy: 0.7610 - val_loss: 0.3346 - val_accuracy: 0.8800\n",
            "Epoch 27/40\n",
            "57/57 [==============================] - 24s 418ms/step - loss: 0.7095 - accuracy: 0.7627 - val_loss: 0.4036 - val_accuracy: 0.8629\n",
            "Epoch 28/40\n",
            "57/57 [==============================] - 24s 419ms/step - loss: 0.7218 - accuracy: 0.7643 - val_loss: 0.3120 - val_accuracy: 0.8914\n",
            "Epoch 29/40\n",
            "57/57 [==============================] - 24s 417ms/step - loss: 0.6575 - accuracy: 0.7900 - val_loss: 0.2901 - val_accuracy: 0.8743\n",
            "Epoch 30/40\n",
            "57/57 [==============================] - 24s 417ms/step - loss: 0.6511 - accuracy: 0.7805 - val_loss: 0.2919 - val_accuracy: 0.8857\n",
            "Epoch 31/40\n",
            "57/57 [==============================] - 24s 419ms/step - loss: 0.6077 - accuracy: 0.7928 - val_loss: 0.3212 - val_accuracy: 0.8857\n",
            "Epoch 32/40\n",
            "57/57 [==============================] - 24s 419ms/step - loss: 0.6119 - accuracy: 0.8072 - val_loss: 0.3477 - val_accuracy: 0.8800\n",
            "Epoch 33/40\n",
            "57/57 [==============================] - 24s 416ms/step - loss: 0.5806 - accuracy: 0.8095 - val_loss: 0.2499 - val_accuracy: 0.9200\n",
            "Epoch 34/40\n",
            "57/57 [==============================] - 24s 429ms/step - loss: 0.6012 - accuracy: 0.7928 - val_loss: 0.2166 - val_accuracy: 0.9086\n",
            "Epoch 35/40\n",
            "57/57 [==============================] - 24s 420ms/step - loss: 0.5943 - accuracy: 0.7983 - val_loss: 0.3408 - val_accuracy: 0.8857\n",
            "Epoch 36/40\n",
            "57/57 [==============================] - 24s 419ms/step - loss: 0.5989 - accuracy: 0.7900 - val_loss: 0.4775 - val_accuracy: 0.8229\n",
            "Epoch 37/40\n",
            "57/57 [==============================] - 24s 422ms/step - loss: 0.6060 - accuracy: 0.7900 - val_loss: 0.3281 - val_accuracy: 0.8857\n",
            "Epoch 38/40\n",
            "57/57 [==============================] - 24s 419ms/step - loss: 0.5514 - accuracy: 0.8156 - val_loss: 0.2000 - val_accuracy: 0.9257\n",
            "Epoch 39/40\n",
            "57/57 [==============================] - 24s 424ms/step - loss: 0.5287 - accuracy: 0.8217 - val_loss: 0.1836 - val_accuracy: 0.9486\n",
            "Epoch 40/40\n",
            "57/57 [==============================] - 24s 417ms/step - loss: 0.5270 - accuracy: 0.8245 - val_loss: 0.5331 - val_accuracy: 0.8343\n"
          ],
          "name": "stdout"
        }
      ]
    },
    {
      "cell_type": "code",
      "metadata": {
        "colab": {
          "base_uri": "https://localhost:8080/",
          "height": 435
        },
        "id": "ux03JJEUZj8l",
        "outputId": "74f11115-fcf9-4fd0-8d54-8424508e834a"
      },
      "source": [
        "accuracy = history.history['accuracy']\n",
        "val_accuracy = history.history['val_accuracy']\n",
        "loss = history.history['loss']\n",
        "val_loss = history.history['val_loss']\n",
        "\n",
        "epochs_range = range(40)\n",
        "\n",
        "plt.figure(figsize=(15, 15))\n",
        "plt.subplot(2, 2, 1)\n",
        "plt.plot(epochs_range, accuracy, label='Training Accuracy')\n",
        "plt.plot(epochs_range, val_accuracy, label='Validation Accuracy')\n",
        "plt.legend(loc='lower right')\n",
        "plt.title('Training and Validation Accuracy')\n",
        "\n",
        "plt.subplot(2, 2, 2)\n",
        "plt.plot(epochs_range, loss, label='Training Loss')\n",
        "plt.plot(epochs_range, val_loss, label='Validation Loss')\n",
        "plt.legend(loc='upper right')\n",
        "plt.title('Training and Validation Loss')\n",
        "plt.show()"
      ],
      "execution_count": 26,
      "outputs": [
        {
          "output_type": "display_data",
          "data": {
            "image/png": "[encoded data removed]",
            "text/plain": [
              "<Figure size 1080x1080 with 2 Axes>"
            ]
          },
          "metadata": {
            "tags": [],
            "needs_background": "light"
          }
        }
      ]
    },
    {
      "cell_type": "code",
      "metadata": {
        "colab": {
          "base_uri": "https://localhost:8080/"
        },
        "id": "Grb2XDY2kOzg",
        "outputId": "de791652-0720-4fac-a8ef-ad276ecec5fc"
      },
      "source": [
        "tf.keras.models.save_model(\n",
        "    model,\n",
        "    '/content/drive/MyDrive/Colab Notebooks/models/final_model/model',\n",
        "    overwrite=True,\n",
        "    include_optimizer=True,\n",
        "    save_format=None,\n",
        "    signatures=None,\n",
        "    options=None\n",
        ")"
      ],
      "execution_count": 37,
      "outputs": [
        {
          "output_type": "stream",
          "text": [
            "INFO:tensorflow:Assets written to: /content/drive/MyDrive/Colab Notebooks/models/final_model/model/assets\n"
          ],
          "name": "stdout"
        }
      ]
    },
    {
      "cell_type": "code",
      "metadata": {
        "id": "E0f6l2ghcF28"
      },
      "source": [
        "new_model = load_model('/content/drive/MyDrive/Colab Notebooks/models/final_model/model')"
      ],
      "execution_count": 38,
      "outputs": []
    },
    {
      "cell_type": "code",
      "metadata": {
        "colab": {
          "base_uri": "https://localhost:8080/"
        },
        "id": "uXzgwmuolmpK",
        "outputId": "97c484a9-1da2-4a14-df73-cddfbdfbb37d"
      },
      "source": [
        "new_model.summary()"
      ],
      "execution_count": 39,
      "outputs": [
        {
          "output_type": "stream",
          "text": [
            "Model: \"sequential_1\"\n",
            "_________________________________________________________________\n",
            "Layer (type)                 Output Shape              Param #   \n",
            "=================================================================\n",
            "batch_normalization_4 (Batch (None, None, None, 3)     12        \n",
            "_________________________________________________________________\n",
            "conv2d_6 (Conv2D)            (None, None, None, 32)    896       \n",
            "_________________________________________________________________\n",
            "conv2d_7 (Conv2D)            (None, None, None, 32)    9248      \n",
            "_________________________________________________________________\n",
            "max_pooling2d_3 (MaxPooling2 (None, None, None, 32)    0         \n",
            "_________________________________________________________________\n",
            "dropout_4 (Dropout)          (None, None, None, 32)    0         \n",
            "_________________________________________________________________\n",
            "batch_normalization_5 (Batch (None, None, None, 32)    128       \n",
            "_________________________________________________________________\n",
            "conv2d_8 (Conv2D)            (None, None, None, 32)    9248      \n",
            "_________________________________________________________________\n",
            "conv2d_9 (Conv2D)            (None, None, None, 32)    9248      \n",
            "_________________________________________________________________\n",
            "max_pooling2d_4 (MaxPooling2 (None, None, None, 32)    0         \n",
            "_________________________________________________________________\n",
            "dropout_5 (Dropout)          (None, None, None, 32)    0         \n",
            "_________________________________________________________________\n",
            "batch_normalization_6 (Batch (None, None, None, 32)    128       \n",
            "_________________________________________________________________\n",
            "conv2d_10 (Conv2D)           (None, None, None, 32)    9248      \n",
            "_________________________________________________________________\n",
            "conv2d_11 (Conv2D)           (None, None, None, 32)    9248      \n",
            "_________________________________________________________________\n",
            "max_pooling2d_5 (MaxPooling2 (None, None, None, 32)    0         \n",
            "_________________________________________________________________\n",
            "dropout_6 (Dropout)          (None, None, None, 32)    0         \n",
            "_________________________________________________________________\n",
            "batch_normalization_7 (Batch (None, None, None, 32)    128       \n",
            "_________________________________________________________________\n",
            "flatten_1 (Flatten)          (None, None)              0         \n",
            "_________________________________________________________________\n",
            "dense_2 (Dense)              (None, 512)               590336    \n",
            "_________________________________________________________________\n",
            "dropout_7 (Dropout)          (None, 512)               0         \n",
            "_________________________________________________________________\n",
            "dense_3 (Dense)              (None, 36)                18468     \n",
            "=================================================================\n",
            "Total params: 656,336\n",
            "Trainable params: 656,138\n",
            "Non-trainable params: 198\n",
            "_________________________________________________________________\n"
          ],
          "name": "stdout"
        }
      ]
    }
  ]
}